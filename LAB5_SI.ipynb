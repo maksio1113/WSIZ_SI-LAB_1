{
  "nbformat": 4,
  "nbformat_minor": 0,
  "metadata": {
    "colab": {
      "name": "Untitled7.ipynb",
      "provenance": [],
      "include_colab_link": true
    },
    "kernelspec": {
      "name": "python3",
      "display_name": "Python 3"
    }
  },
  "cells": [
    {
      "cell_type": "markdown",
      "metadata": {
        "id": "view-in-github",
        "colab_type": "text"
      },
      "source": [
        "<a href=\"https://colab.research.google.com/github/maksio1113/WSIZ_SI-LAB_1/blob/master/LAB5_SI.ipynb\" target=\"_parent\"><img src=\"https://colab.research.google.com/assets/colab-badge.svg\" alt=\"Open In Colab\"/></a>"
      ]
    },
    {
      "cell_type": "markdown",
      "metadata": {
        "id": "Ra6rbRNepc4T",
        "colab_type": "text"
      },
      "source": [
        "Poprzez użycie dekompozycji PCA udało się wydzielić cechę \"długość kielicha\". Cecha ta pokazuje jak różni się długość poszczególnych gatunków irysów. Gatunek \"setosa\" różni się znacznie wyraźniej niż w oryginalnych danych a pozostałe dwa gatunki pokrywają się w znacznie mniejszym zakresie."
      ]
    }
  ]
}