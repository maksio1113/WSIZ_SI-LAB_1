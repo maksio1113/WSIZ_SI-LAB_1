{
  "nbformat": 4,
  "nbformat_minor": 0,
  "metadata": {
    "colab": {
      "name": "Untitled2.ipynb",
      "provenance": [],
      "include_colab_link": true
    },
    "kernelspec": {
      "name": "python3",
      "display_name": "Python 3"
    }
  },
  "cells": [
    {
      "cell_type": "markdown",
      "metadata": {
        "id": "view-in-github",
        "colab_type": "text"
      },
      "source": [
        "<a href=\"https://colab.research.google.com/github/maksio1113/WSIZ_SI-LAB_1/blob/master/LAB2_SI.ipynb\" target=\"_parent\"><img src=\"https://colab.research.google.com/assets/colab-badge.svg\" alt=\"Open In Colab\"/></a>"
      ]
    },
    {
      "cell_type": "code",
      "metadata": {
        "id": "b-BVUAKgmSZ2",
        "colab_type": "code",
        "colab": {}
      },
      "source": [
        "# Przewidywanie klas\n",
        " \n",
        "from sklearn import datasets\n",
        "import pandas as pd\n",
        "import numpy as np\n",
        "from sklearn.model_selection import train_test_split\n",
        "from sklearn.neighbors import KNeighborsClassifier\n",
        "from sklearn.metrics import classification_report, confusion_matrix\n",
        "import matplotlib.pyplot as plt\n",
        "import seaborn as sns\n",
        " \n",
        "liczba_sasiadow_opis = 'Liczba sasiadow'\n",
        "dokladnosci_skoringu_opis = 'Dokladnosc scoringu'\n",
        "file_name_for_chart = \"Lab2_Exercise2_LiczbaSasiadow_Dokladnosc.png\"\n",
        "file_name_for_chart2 = \"Lab2_Exercise3_Wina.png\"\n",
        "#\n",
        "# Wczytaj przykładowy zbiór danych - dane dotyczące trzech gatunków Irysów\n",
        "iris = datasets.load_iris()\n",
        "#"
      ],
      "execution_count": 0,
      "outputs": []
    },
    {
      "cell_type": "code",
      "metadata": {
        "id": "S_OCQ5ReqzJi",
        "colab_type": "code",
        "colab": {
          "base_uri": "https://localhost:8080/",
          "height": 1000
        },
        "outputId": "9fc925f9-3f14-4bfd-d2d2-8b9813bd74a5"
      },
      "source": [
        "print('Opis irysów w zbiorze to: ', iris['DESCR'])\n",
        "X = iris.data\n",
        "y = iris.target\n",
        "X_train, X_test, y_train, y_test = train_test_split(X, y, test_size=0.8)\n",
        " \n",
        "liczby_sasiadow = [1, 2, 3, 4, 5 , 6, 7, 8, 9, 10, 11, 12, 13, 14]\n",
        "dokladnosci_skoringu = []\n",
        " \n",
        "for neighbours_count in liczby_sasiadow:\n",
        "    # W pętli 'for' użyj kolejnych wartości parametru do stworzenia klasyfikatora\n",
        "    knn = KNeighborsClassifier(neighbours_count)\n",
        " \n",
        "    # Następnie naucz go na danych uczących\n",
        "    knn.fit(X_train, y_train)\n",
        " \n",
        "    # Zapisz wynik scoringu na danych testowych do osobnej listy\n",
        "    dokladnosci_skoringu.append(knn.score(X_test, y_test))\n",
        " \n",
        "print(\"Liczba sasiadow, Dokladnosc skoringu\")\n",
        " \n",
        "for liczba_sasiadow, dokladnosc_skoringu in zip(liczby_sasiadow, dokladnosci_skoringu):\n",
        "    print([liczba_sasiadow, dokladnosc_skoringu])\n",
        " \n",
        "# Wyświetl wykres zależności między liczbą sąsiadów a dokładnością.\n",
        "# correlation = np.corrcoef(dokladnosci, lista_n)[0][1]\n",
        "plt.plot(liczby_sasiadow, dokladnosci_skoringu)\n",
        "plt.title('Badanie wartosci skoringu dla zmiennej liczby sasiadow algorytmu KNN')\n",
        "plt.xlabel(liczba_sasiadow_opis)\n",
        "plt.ylabel(dokladnosci_skoringu_opis)\n",
        " \n",
        "# Zapisz do pliku obraz z wykresu\n",
        "# plt.savefig(file_name_for_chart + '.png')"
      ],
      "execution_count": 3,
      "outputs": [
        {
          "output_type": "stream",
          "text": [
            "Opis irysów w zbiorze to:  .. _iris_dataset:\n",
            "\n",
            "Iris plants dataset\n",
            "--------------------\n",
            "\n",
            "**Data Set Characteristics:**\n",
            "\n",
            "    :Number of Instances: 150 (50 in each of three classes)\n",
            "    :Number of Attributes: 4 numeric, predictive attributes and the class\n",
            "    :Attribute Information:\n",
            "        - sepal length in cm\n",
            "        - sepal width in cm\n",
            "        - petal length in cm\n",
            "        - petal width in cm\n",
            "        - class:\n",
            "                - Iris-Setosa\n",
            "                - Iris-Versicolour\n",
            "                - Iris-Virginica\n",
            "                \n",
            "    :Summary Statistics:\n",
            "\n",
            "    ============== ==== ==== ======= ===== ====================\n",
            "                    Min  Max   Mean    SD   Class Correlation\n",
            "    ============== ==== ==== ======= ===== ====================\n",
            "    sepal length:   4.3  7.9   5.84   0.83    0.7826\n",
            "    sepal width:    2.0  4.4   3.05   0.43   -0.4194\n",
            "    petal length:   1.0  6.9   3.76   1.76    0.9490  (high!)\n",
            "    petal width:    0.1  2.5   1.20   0.76    0.9565  (high!)\n",
            "    ============== ==== ==== ======= ===== ====================\n",
            "\n",
            "    :Missing Attribute Values: None\n",
            "    :Class Distribution: 33.3% for each of 3 classes.\n",
            "    :Creator: R.A. Fisher\n",
            "    :Donor: Michael Marshall (MARSHALL%PLU@io.arc.nasa.gov)\n",
            "    :Date: July, 1988\n",
            "\n",
            "The famous Iris database, first used by Sir R.A. Fisher. The dataset is taken\n",
            "from Fisher's paper. Note that it's the same as in R, but not as in the UCI\n",
            "Machine Learning Repository, which has two wrong data points.\n",
            "\n",
            "This is perhaps the best known database to be found in the\n",
            "pattern recognition literature.  Fisher's paper is a classic in the field and\n",
            "is referenced frequently to this day.  (See Duda & Hart, for example.)  The\n",
            "data set contains 3 classes of 50 instances each, where each class refers to a\n",
            "type of iris plant.  One class is linearly separable from the other 2; the\n",
            "latter are NOT linearly separable from each other.\n",
            "\n",
            ".. topic:: References\n",
            "\n",
            "   - Fisher, R.A. \"The use of multiple measurements in taxonomic problems\"\n",
            "     Annual Eugenics, 7, Part II, 179-188 (1936); also in \"Contributions to\n",
            "     Mathematical Statistics\" (John Wiley, NY, 1950).\n",
            "   - Duda, R.O., & Hart, P.E. (1973) Pattern Classification and Scene Analysis.\n",
            "     (Q327.D83) John Wiley & Sons.  ISBN 0-471-22361-1.  See page 218.\n",
            "   - Dasarathy, B.V. (1980) \"Nosing Around the Neighborhood: A New System\n",
            "     Structure and Classification Rule for Recognition in Partially Exposed\n",
            "     Environments\".  IEEE Transactions on Pattern Analysis and Machine\n",
            "     Intelligence, Vol. PAMI-2, No. 1, 67-71.\n",
            "   - Gates, G.W. (1972) \"The Reduced Nearest Neighbor Rule\".  IEEE Transactions\n",
            "     on Information Theory, May 1972, 431-433.\n",
            "   - See also: 1988 MLC Proceedings, 54-64.  Cheeseman et al\"s AUTOCLASS II\n",
            "     conceptual clustering system finds 3 classes in the data.\n",
            "   - Many, many more ...\n",
            "Liczba sasiadow, Dokladnosc skoringu\n",
            "[1, 0.9583333333333334]\n",
            "[2, 0.9333333333333333]\n",
            "[3, 0.95]\n",
            "[4, 0.9166666666666666]\n",
            "[5, 0.925]\n",
            "[6, 0.8916666666666667]\n",
            "[7, 0.9]\n",
            "[8, 0.8916666666666667]\n",
            "[9, 0.8916666666666667]\n",
            "[10, 0.8916666666666667]\n",
            "[11, 0.8833333333333333]\n",
            "[12, 0.8833333333333333]\n",
            "[13, 0.8833333333333333]\n",
            "[14, 0.6416666666666667]\n"
          ],
          "name": "stdout"
        },
        {
          "output_type": "execute_result",
          "data": {
            "text/plain": [
              "Text(0, 0.5, 'Dokladnosc scoringu')"
            ]
          },
          "metadata": {
            "tags": []
          },
          "execution_count": 3
        },
        {
          "output_type": "display_data",
          "data": {
            "image/png": "[encoded data removed]",
            "text/plain": [
              "<Figure size 432x288 with 1 Axes>"
            ]
          },
          "metadata": {
            "tags": []
          }
        }
      ]
    },
    {
      "cell_type": "code",
      "metadata": {
        "id": "i8X3P3vRrCd1",
        "colab_type": "code",
        "colab": {
          "base_uri": "https://localhost:8080/",
          "height": 547
        },
        "outputId": "870bf22c-d546-4ec1-bbdb-ad0f9b4c80a6"
      },
      "source": [
        "wines = datasets.load_wine()\n",
        "############\n",
        "# Zbadaj zbiór danych. Stwórz wykresy obrazujące ten zbiór danych.\n",
        "############\n",
        "# Zobaczmy jakie dane mamy w zbiorze\n",
        "print('Elementy zbioru win: ', list(wines.keys()))\n",
        "# Etykiety które występują\n",
        "print('Cechy win w zbiorze to: ', wines['feature_names'])\n",
        " \n",
        "# konwersja na obiekt pandas.DataFrame\n",
        "wines_df = pd.DataFrame(wines['data'], columns=wines['feature_names'])\n",
        " \n",
        "# funkcja która nam zamieni wartości 0, 1, 2 na pełny opis tekstowy dla gatunku\n",
        "targets = map(lambda x: wines['target_names'][x], wines['target'])\n",
        " \n",
        "# doklejenie informacji o gatunku do reszty dataframe\n",
        "wines_df['species'] = np.array(list(targets))\n",
        " \n",
        "# wykres\n",
        "# sns.pairplot(wines_df, hue='species')\n",
        "# plt.savefig(file_name_for_chart2)\n",
        " \n",
        "# Podziel zbiór danych na uczący i testowy.\n",
        "# Podzielmy zbiór na cechy oraz etykiety\n",
        "X = wines.data\n",
        "y = wines.target\n",
        " \n",
        "# Używamy funkcji do podzielenia zbioru na zbiór uczący i zbiór testowy\n",
        "X_train, X_test, y_train, y_test = train_test_split(X, y, test_size = 0.8)\n",
        " \n",
        "# Tworzymy klasyfikator k-NN używając parametru 5 sąsiadów\n",
        "knn = KNeighborsClassifier(n_neighbors = 5)\n",
        " \n",
        "# Wytrenuj klasyfikator kNN\n",
        "knn.fit(X_train, y_train)\n",
        " \n",
        "# Przewidujemy wartości dla zbioru testowego\n",
        "# Dokonaj predykcji na zbiorze testowym\n",
        "y_pred = knn.predict(X_test)\n",
        " \n",
        "# Sprawdzamy kilka pierwszych wartości przewidzianych\n",
        "print([\"Wartosci przewidziane: \", y_pred[:5]])\n",
        " \n",
        "# Sprawdzamy dokładność klasyfikatora\n",
        "print([\"Dokładność klasyfikatora: \", knn.score(X_test, y_test)])\n",
        " \n",
        "# Wypisz raport z uczenia: confusion_matrix oraz classification_report\n",
        "print()\n",
        "print(\"**** Raport z uczenia - classification_report ****\")\n",
        "print(\"Precision – What percent of your predictions were correct\")\n",
        "print(\"Recall – What percent of the positive cases did you catch\")\n",
        "print(\"The F-beta score can be interpreted as a weighted harmonic mean of the precision and recall\"\n",
        "      \"where an F-beta score reaches its best value at 1 and worst score at 0\")\n",
        "print(\"The support is the number of occurrences of each class in y_true\")\n",
        "print(classification_report(y_test, y_pred))\n",
        " \n",
        "print()\n",
        "print(\"**** Raport z uczenia - confusion_matrix ****\")\n",
        "print(\"x - Aktualna class\")\n",
        "print(\"y - Przewidziana class\")\n",
        "print('Klasy win w zbiorze to: ', wines['target_names'])\n",
        "print(confusion_matrix(y_test, y_pred))\n",
        " \n",
        "# Jak bardzo wyniki różnią się od prawdziwych wartości?\n",
        "print(\"Raporty pokrywają się z rzeczywistością dla class_0\")\n",
        "print(\"Raporty nie pokrywają się z rzeczywistością dla class_1, class_2\")"
      ],
      "execution_count": 4,
      "outputs": [
        {
          "output_type": "stream",
          "text": [
            "Elementy zbioru win:  ['data', 'target', 'target_names', 'DESCR', 'feature_names']\n",
            "Cechy win w zbiorze to:  ['alcohol', 'malic_acid', 'ash', 'alcalinity_of_ash', 'magnesium', 'total_phenols', 'flavanoids', 'nonflavanoid_phenols', 'proanthocyanins', 'color_intensity', 'hue', 'od280/od315_of_diluted_wines', 'proline']\n",
            "['Wartosci przewidziane: ', array([0, 2, 1, 1, 2])]\n",
            "['Dokładność klasyfikatora: ', 0.6993006993006993]\n",
            "\n",
            "**** Raport z uczenia - classification_report ****\n",
            "Precision – What percent of your predictions were correct\n",
            "Recall – What percent of the positive cases did you catch\n",
            "The F-beta score can be interpreted as a weighted harmonic mean of the precision and recallwhere an F-beta score reaches its best value at 1 and worst score at 0\n",
            "The support is the number of occurrences of each class in y_true\n",
            "              precision    recall  f1-score   support\n",
            "\n",
            "           0       0.83      0.87      0.85        46\n",
            "           1       0.71      0.72      0.72        58\n",
            "           2       0.50      0.46      0.48        39\n",
            "\n",
            "    accuracy                           0.70       143\n",
            "   macro avg       0.68      0.69      0.68       143\n",
            "weighted avg       0.69      0.70      0.70       143\n",
            "\n",
            "\n",
            "**** Raport z uczenia - confusion_matrix ****\n",
            "x - Aktualna class\n",
            "y - Przewidziana class\n",
            "Klasy win w zbiorze to:  ['class_0' 'class_1' 'class_2']\n",
            "[[40  1  5]\n",
            " [ 3 42 13]\n",
            " [ 5 16 18]]\n",
            "Raporty pokrywają się z rzeczywistością dla class_0\n",
            "Raporty nie pokrywają się z rzeczywistością dla class_1, class_2\n"
          ],
          "name": "stdout"
        }
      ]
    }
  ]
}