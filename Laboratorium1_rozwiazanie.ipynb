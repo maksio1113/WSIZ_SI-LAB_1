{
 "cells": [
  {
   "cell_type": "code",
   "execution_count": null,
   "metadata": {},
   "outputs": [],
   "source": [
    "#Zad1\n",
    "import pandas as pd\n",
    "import requests\n",
    "\n",
    "#Pobieranie danych jako listy słowników\n",
    "def pobieranie_danych(start_date, end_date, currency):\n",
    "    request_url = 'http://api.nbp.pl/api/exchangerates/rates/A/' + currency + '/' + start_date + '/' + end_date + '/'\n",
    "    currency_req = requests.get(request_url)\n",
    "    currency_data = currency_req.json()\n",
    "    return currency_data['rates'] \n",
    "\n",
    "#Wykorzystanie powyższej funkcji do pobrania danych jako dataframe\n",
    "def pobieranie_danych_jako_dataframe(start_date, end_date, currency):\n",
    "    currency_data = pobieranie_danych(start_date, end_date, currency)\n",
    "    return pd.DataFrame.from_dict(currency_data)\n",
    "\n",
    "#przykład użycia funkcji\n",
    "#USD = pobieranie_danych_jako_dataframe('2019-09-01', '2019-09-30', 'USD')\n",
    "#print(pobieranie_danych_jako_dataframe('2019-09-01', '2019-09-30', 'EUR'))"
   ]
  },
  {
   "cell_type": "code",
   "execution_count": null,
   "metadata": {},
   "outputs": [],
   "source": [
    "#Zad2\n",
    "#pobieranie danych o dolarze amerykanśkim z września\n",
    "usd = pobieranie_danych_jako_dataframe('2019-09-01', '2019-09-30', 'USD')\n",
    "#pobieranie danych o euro z września\n",
    "eur = pobieranie_danych_jako_dataframe('2019-09-01', '2019-09-30', 'EUR')"
   ]
  },
  {
   "cell_type": "code",
   "execution_count": null,
   "metadata": {},
   "outputs": [],
   "source": [
    "#Zad3\n",
    "import pandas as pd\n",
    "\n",
    "#USD\n",
    "\n",
    "print(\"Podglądamy zawartość DataFrame\")\n",
    "print(usd.head()) #podgląd zawartości dataframe\n",
    "print(\"Sprawdzamy typ danych\")\n",
    "print(usd.dtypes) #sprawdzanie typu pobranych danych\n",
    "print(\"Zmieniamy typ object na datatime\")\n",
    "usd['effectiveDate'] = pd.to_datetime(usd['effectiveDate']) #zmiana typu danych kolumny z datą na typ datatime\n",
    "print(\"Sprawdzamy nowy typ danych kolumny z datami\")\n",
    "print(usd['effectiveDate'].dtypes) #sprawdzenie typu danych kolumny z datą po zmianie\n",
    "usd = usd.set_index(\"effectiveDate\").drop(columns='no') #zmiana indeksu na datę i usunięcie kolumny \"no\"\n",
    "print(usd.head())\n",
    "\n",
    "#EURO\n",
    "\n",
    "print(\"Podglądamy zawartość DataFrame\")\n",
    "print(eur.head()) #podgląd zawartości dataframe\n",
    "print(\"Sprawdzamy typ danych\")\n",
    "print(eur.dtypes) #sprawdzanie typu pobranych danych\n",
    "print(\"Zmieniamy typ object na datatime\")\n",
    "eur['effectiveDate'] = pd.to_datetime(eur['effectiveDate']) #zmiana typu danych kolumny z datą na typ datatime\n",
    "print(\"Sprawdzamy nowy typ danych kolumny z datami\")\n",
    "print(eur['effectiveDate'].dtypes) #sprawdzenie typu danych kolumny z datą po zmianie\n",
    "eur = eur.set_index(\"effectiveDate\").drop(columns='no') #zmiana indeksu na datę i usunięcie kolumny \"no\"\n",
    "print(eur.head())"
   ]
  },
  {
   "cell_type": "code",
   "execution_count": null,
   "metadata": {},
   "outputs": [],
   "source": [
    "#zad 4\n",
    "from numpy import corrcoef, array\n",
    "\n",
    "usd = pobieranie_danych('2019-09-01', '2019-09-30', 'USD')  \n",
    "eur = pobieranie_danych('2019-09-01', '2019-09-30', 'EUR')\n",
    "\n",
    "#generowanie listy wartości waluty względem złotego \n",
    "usd2 = []\n",
    "for tmp in usd:\n",
    "    usd2.append(tmp['mid'])\n",
    "\n",
    "eur2 = []\n",
    "for tmp in eur:\n",
    "    eur2.append(tmp['mid'])\n",
    "# alternatywne generowanie: eur2 = [tmp['mid'] for tmp in eur]\n",
    "\n",
    "#tworzenie tablicy korelacji\n",
    "corrcoef(array(usd2), array(eur2))\n"
   ]
  },
  {
   "cell_type": "code",
   "execution_count": null,
   "metadata": {},
   "outputs": [],
   "source": [
    "#Zad5\n",
    "import matplotlib.pyplot as plt\n",
    "\n",
    "dane_wykres_usd = pobieranie_danych_jako_dataframe('2019-09-01', '2019-09-30', 'USD').set_index(['effectiveDate'])['mid']\n",
    "dane_wykres_eur = pobieranie_danych_jako_dataframe('2019-09-01', '2019-09-30', 'EUR').set_index(['effectiveDate'])['mid']\n",
    "\n",
    "fig, axs = plt.subplots(1,2, sharex=True, sharey=True) \n",
    "axs[0].plot(dane_wykres_usd) #przypisanie pobranych danych USD do wykresu pierwszego\n",
    "axs[1].plot(dane_wykres_eur) #przypisanie pobranych danych EURO do wykresu drugiego\n",
    "\n",
    "#poniższe 3 polecenie zwiekszają czytelność wykresów\n",
    "fig.autofmt_xdate() #ustawienie opisów osi x pod kontem 45 stopni\n",
    "tmp_x=9 #określenie ilości wyświetlanych dat na osi x\n",
    "axs[0].xaxis.set_major_locator(plt.MaxNLocator(tmp_x)) #ograniczenie wyświetlanych wartości dat na osi x do wcześniej zadeklarowanej ilości\n",
    "#wystarczy to zrobić dla jednego wykresu bo wartości są współdzielone dzięki funkcji plt.subplots\n",
    "\n",
    "plt.show()"
   ]
  }
 ],
 "metadata": {
  "kernelspec": {
   "display_name": "Python 3",
   "language": "python",
   "name": "python3"
  },
  "language_info": {
   "codemirror_mode": {
    "name": "ipython",
    "version": 3
   },
   "file_extension": ".py",
   "mimetype": "text/x-python",
   "name": "python",
   "nbconvert_exporter": "python",
   "pygments_lexer": "ipython3",
   "version": "3.7.4"
  }
 },
 "nbformat": 4,
 "nbformat_minor": 2
}
