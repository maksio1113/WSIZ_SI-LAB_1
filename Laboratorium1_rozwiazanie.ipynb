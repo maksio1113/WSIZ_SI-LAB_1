{
 "cells": [
  {
   "cell_type": "code",
   "execution_count": 6,
   "metadata": {},
   "outputs": [],
   "source": [
    "#Zad1\n",
    "import pandas as pd\n",
    "import requests\n",
    "\n",
    "#Pobieranie danych jako listy słowników\n",
    "def pobieranie_danych(start_date, end_date, currency):\n",
    "    request_url = 'http://api.nbp.pl/api/exchangerates/rates/A/' + currency + '/' + start_date + '/' + end_date + '/'\n",
    "    currency_req = requests.get(request_url)\n",
    "    currency_data = currency_req.json()\n",
    "    return currency_data['rates'] \n",
    "\n",
    "#Wykorzystanie powyższej funkcji do pobrania danych jako dataframe\n",
    "def pobieranie_danych_jako_dataframe(start_date, end_date, currency):\n",
    "    currency_data = pobieranie_danych(start_date, end_date, currency)\n",
    "    return pd.DataFrame.from_dict(currency_data)\n",
    "\n",
    "#przykład użycia funkcji\n",
    "#USD = pobieranie_danych_jako_dataframe('2019-10-01', '2019-10-31', 'USD')\n",
    "#print(pobieranie_danych_jako_dataframe('2019-10-01', '2019-09-31', 'CHF'))"
   ]
  },
  {
   "cell_type": "code",
   "execution_count": 7,
   "metadata": {},
   "outputs": [],
   "source": [
    "#Zad2\n",
    "#pobieranie danych o dolarze amerykanśkim z października\n",
    "usd = pobieranie_danych_jako_dataframe('2019-10-01', '2019-10-31', 'USD')\n",
    "#pobieranie danych o franku szwajcarskim z października\n",
    "chf = pobieranie_danych_jako_dataframe('2019-10-01', '2019-10-31', 'CHF')"
   ]
  },
  {
   "cell_type": "code",
   "execution_count": 8,
   "metadata": {},
   "outputs": [
    {
     "name": "stdout",
     "output_type": "stream",
     "text": [
      "Podglądamy zawartość DataFrame\n",
      "               no effectiveDate     mid\n",
      "0  190/A/NBP/2019    2019-10-01  4.0147\n",
      "1  191/A/NBP/2019    2019-10-02  4.0152\n",
      "2  192/A/NBP/2019    2019-10-03  3.9652\n",
      "3  193/A/NBP/2019    2019-10-04  3.9469\n",
      "4  194/A/NBP/2019    2019-10-07  3.9498\n",
      "Sprawdzamy typ danych\n",
      "no                object\n",
      "effectiveDate     object\n",
      "mid              float64\n",
      "dtype: object\n",
      "Zmieniamy typ object na datatime\n",
      "Sprawdzamy nowy typ danych kolumny z datami\n",
      "datetime64[ns]\n",
      "                  mid\n",
      "effectiveDate        \n",
      "2019-10-01     4.0147\n",
      "2019-10-02     4.0152\n",
      "2019-10-03     3.9652\n",
      "2019-10-04     3.9469\n",
      "2019-10-07     3.9498\n",
      "Podglądamy zawartość DataFrame\n",
      "               no effectiveDate     mid\n",
      "0  190/A/NBP/2019    2019-10-01  4.0116\n",
      "1  191/A/NBP/2019    2019-10-02  4.0167\n",
      "2  192/A/NBP/2019    2019-10-03  3.9694\n",
      "3  193/A/NBP/2019    2019-10-04  3.9588\n",
      "4  194/A/NBP/2019    2019-10-07  3.9727\n",
      "Sprawdzamy typ danych\n",
      "no                object\n",
      "effectiveDate     object\n",
      "mid              float64\n",
      "dtype: object\n",
      "Zmieniamy typ object na datatime\n",
      "Sprawdzamy nowy typ danych kolumny z datami\n",
      "datetime64[ns]\n",
      "                  mid\n",
      "effectiveDate        \n",
      "2019-10-01     4.0116\n",
      "2019-10-02     4.0167\n",
      "2019-10-03     3.9694\n",
      "2019-10-04     3.9588\n",
      "2019-10-07     3.9727\n"
     ]
    }
   ],
   "source": [
    "#Zad3\n",
    "import pandas as pd\n",
    "\n",
    "#USD\n",
    "\n",
    "print(\"Podglądamy zawartość DataFrame\")\n",
    "print(usd.head()) #podgląd zawartości dataframe\n",
    "print(\"Sprawdzamy typ danych\")\n",
    "print(usd.dtypes) #sprawdzanie typu pobranych danych\n",
    "print(\"Zmieniamy typ object na datatime\")\n",
    "usd['effectiveDate'] = pd.to_datetime(usd['effectiveDate']) #zmiana typu danych kolumny z datą na typ datatime\n",
    "print(\"Sprawdzamy nowy typ danych kolumny z datami\")\n",
    "print(usd['effectiveDate'].dtypes) #sprawdzenie typu danych kolumny z datą po zmianie\n",
    "usd = usd.set_index(\"effectiveDate\").drop(columns='no') #zmiana indeksu na datę i usunięcie kolumny \"no\"\n",
    "print(usd.head())\n",
    "\n",
    "#CHF\n",
    "\n",
    "print(\"Podglądamy zawartość DataFrame\")\n",
    "print(chf.head()) #podgląd zawartości dataframe\n",
    "print(\"Sprawdzamy typ danych\")\n",
    "print(chf.dtypes) #sprawdzanie typu pobranych danych\n",
    "print(\"Zmieniamy typ object na datatime\")\n",
    "chf['effectiveDate'] = pd.to_datetime(chf['effectiveDate']) #zmiana typu danych kolumny z datą na typ datatime\n",
    "print(\"Sprawdzamy nowy typ danych kolumny z datami\")\n",
    "print(chf['effectiveDate'].dtypes) #sprawdzenie typu danych kolumny z datą po zmianie\n",
    "chf = chf.set_index(\"effectiveDate\").drop(columns='no') #zmiana indeksu na datę i usunięcie kolumny \"no\"\n",
    "print(chf.head())"
   ]
  },
  {
   "cell_type": "code",
   "execution_count": 9,
   "metadata": {},
   "outputs": [
    {
     "data": {
      "text/plain": [
       "array([[1.        , 0.96867693],\n",
       "       [0.96867693, 1.        ]])"
      ]
     },
     "execution_count": 9,
     "metadata": {},
     "output_type": "execute_result"
    }
   ],
   "source": [
    "#zad 4\n",
    "from numpy import corrcoef, array\n",
    "\n",
    "usd = pobieranie_danych('2019-10-01', '2019-10-31', 'USD')  \n",
    "chf = pobieranie_danych('2019-10-01', '2019-10-31', 'CHF')  \n",
    "\n",
    "#generowanie listy wartości waluty względem złotego \n",
    "usd2 = []\n",
    "for tmp in usd:\n",
    "    usd2.append(tmp['mid'])\n",
    "\n",
    "chf2 = []\n",
    "for tmp in chf:\n",
    "    chf2.append(tmp['mid'])\n",
    "\n",
    "# alternatywne generowanie: chf2 = [tmp['mid'] for tmp in chf]\n",
    "\n",
    "#tworzenie tablicy korelacji\n",
    "corrcoef(array(usd2), array(chf2))\n",
    "\n"
   ]
  },
  {
   "cell_type": "code",
   "execution_count": 10,
   "metadata": {},
   "outputs": [
    {
     "data": {
      "image/png": "[encoded data removed]",
      "text/plain": [
       "<Figure size 432x288 with 2 Axes>"
      ]
     },
     "metadata": {
      "needs_background": "light"
     },
     "output_type": "display_data"
    }
   ],
   "source": [
    "#Zad5\n",
    "import matplotlib.pyplot as plt\n",
    "\n",
    "dane_wykres_usd = pobieranie_danych_jako_dataframe('2019-10-01', '2019-10-31', 'USD').set_index(['effectiveDate'])['mid']\n",
    "dane_wykres_chf = pobieranie_danych_jako_dataframe('2019-10-01', '2019-10-31', 'CHF').set_index(['effectiveDate'])['mid']\n",
    "\n",
    "\n",
    "fig, axs = plt.subplots(1,2, sharex=True, sharey=True) \n",
    "axs[0].plot(dane_wykres_usd) #przypisanie pobranych danych USD do wykresu pierwszego\n",
    "axs[1].plot(dane_wykres_chf) #przypisanie pobranych danych CHF do wykresu drugiego\n",
    "\n",
    "\n",
    "#poniższe 3 polecenie zwiekszają czytelność wykresów\n",
    "fig.autofmt_xdate() #ustawienie opisów osi x pod kontem 45 stopni\n",
    "tmp_x=9 #określenie ilości wyświetlanych dat na osi x\n",
    "axs[0].xaxis.set_major_locator(plt.MaxNLocator(tmp_x)) #ograniczenie wyświetlanych wartości dat na osi x do wcześniej zadeklarowanej ilości\n",
    "#wystarczy to zrobić dla jednego wykresu bo wartości są współdzielone dzięki funkcji plt.subplots\n",
    "\n",
    "plt.show()"
   ]
  },
  {
   "cell_type": "code",
   "execution_count": null,
   "metadata": {},
   "outputs": [],
   "source": []
  }
 ],
 "metadata": {
  "kernelspec": {
   "display_name": "Python 3",
   "language": "python",
   "name": "python3"
  },
  "language_info": {
   "codemirror_mode": {
    "name": "ipython",
    "version": 3
   },
   "file_extension": ".py",
   "mimetype": "text/x-python",
   "name": "python",
   "nbconvert_exporter": "python",
   "pygments_lexer": "ipython3",
   "version": "3.7.4"
  }
 },
 "nbformat": 4,
 "nbformat_minor": 2
}
